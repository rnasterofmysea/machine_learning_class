{
  "nbformat": 4,
  "nbformat_minor": 0,
  "metadata": {
    "colab": {
      "provenance": []
    },
    "kernelspec": {
      "name": "python3",
      "display_name": "Python 3"
    },
    "language_info": {
      "name": "python"
    }
  },
  "cells": [
    {
      "cell_type": "markdown",
      "source": [
        "아래 문제들은 결과 출력까지 실행 후 ipynb  파일과 .py 파일로 제출  \n",
        "print(b)의 결과가 다음과 같이 되는 code를 작성하시오..  \n",
        "b는 a를 이용하여 정의 함.   최대한 다양한 연산을 사용할것.  \n",
        " , 유무는 신경 쓰지 말것"
      ],
      "metadata": {
        "id": "vydh4AaATqYd"
      }
    },
    {
      "cell_type": "markdown",
      "source": [
        "#학번 :   202347020\n",
        "#이름 : 김대현"
      ],
      "metadata": {
        "id": "A60U6d9dbpvi"
      }
    },
    {
      "cell_type": "markdown",
      "source": [
        "1.   \n",
        " [  [ [ 1.],   \n",
        "        [ 2.],  \n",
        "      [ 3.],  \n",
        "      [ 4.] ]  \n",
        "    [ [ 5.],  \n",
        "      [ 6.],  \n",
        "      [ 7.],  \n",
        "      [ 8.] ],  \n",
        "    [ [ 9.],  \n",
        "      [10.],  \n",
        "      [11.],  \n",
        "      [12.] ]  ]  \n"
      ],
      "metadata": {
        "id": "oaQJW-vjZYqp"
      }
    },
    {
      "cell_type": "code",
      "source": [
        "import torch\n",
        "a = torch.FloatTensor([[[1, 2],\n",
        "                        [3, 4]],\n",
        "                       [[5, 6],\n",
        "                        [7, 8]],\n",
        "                       [[9, 10],\n",
        "                        [11, 12]]])\n",
        "\n",
        "b= a.reshape(12,1)\n",
        "\n",
        "print(a)\n",
        "print(b)"
      ],
      "metadata": {
        "id": "s7WN7jUqZcjd",
        "colab": {
          "base_uri": "https://localhost:8080/"
        },
        "outputId": "3458809d-9f26-4264-e728-528b0341316d"
      },
      "execution_count": 8,
      "outputs": [
        {
          "output_type": "stream",
          "name": "stdout",
          "text": [
            "tensor([[[ 1.,  2.],\n",
            "         [ 3.,  4.]],\n",
            "\n",
            "        [[ 5.,  6.],\n",
            "         [ 7.,  8.]],\n",
            "\n",
            "        [[ 9., 10.],\n",
            "         [11., 12.]]])\n",
            "tensor([[ 1.],\n",
            "        [ 2.],\n",
            "        [ 3.],\n",
            "        [ 4.],\n",
            "        [ 5.],\n",
            "        [ 6.],\n",
            "        [ 7.],\n",
            "        [ 8.],\n",
            "        [ 9.],\n",
            "        [10.],\n",
            "        [11.],\n",
            "        [12.]])\n"
          ]
        }
      ]
    },
    {
      "cell_type": "markdown",
      "source": [
        "2.  [ [[2., 2.],   \n",
        "       [3., 4.]],  \n",
        "       [[5., 6.],  \n",
        "       [2., 8.]],  \n",
        "      [[9., 2.],  \n",
        "       [2., 2.]]  ]  "
      ],
      "metadata": {
        "id": "D5qqUBjKZqsG"
      }
    },
    {
      "cell_type": "code",
      "source": [
        "import torch\n",
        "a = torch.tensor([[[ 2.,  2.,  3.,  4.]],\n",
        "        [[ 5.,  6.,  2.,  8.]],\n",
        "        [[ 9., 2, 2., 2.]]])\n",
        "b= a.reshape(3,2,2)\n",
        "\n",
        "print(a)\n",
        "print(b)"
      ],
      "metadata": {
        "id": "JspbrxxJZnqY",
        "colab": {
          "base_uri": "https://localhost:8080/"
        },
        "outputId": "f64542dd-cca6-42d0-82a2-8159f19932cb"
      },
      "execution_count": 9,
      "outputs": [
        {
          "output_type": "stream",
          "name": "stdout",
          "text": [
            "tensor([[[2., 2., 3., 4.]],\n",
            "\n",
            "        [[5., 6., 2., 8.]],\n",
            "\n",
            "        [[9., 2., 2., 2.]]])\n",
            "tensor([[[2., 2.],\n",
            "         [3., 4.]],\n",
            "\n",
            "        [[5., 6.],\n",
            "         [2., 8.]],\n",
            "\n",
            "        [[9., 2.],\n",
            "         [2., 2.]]])\n"
          ]
        }
      ]
    },
    {
      "cell_type": "markdown",
      "source": [
        "3.[[2., 2., 2., 5.],  \n",
        "        [5., 5., 2., 5.],  \n",
        "        [9., 5., 5., 2.]]  "
      ],
      "metadata": {
        "id": "592OJ3VlSerQ"
      }
    },
    {
      "cell_type": "code",
      "source": [
        "import torch\n",
        "a = torch.tensor([[[ 2.,  2.,  2.,  5.]],\n",
        "        [[ 5.,  5,  2.,  5.]],\n",
        "        [[ 9.,5, 5., 2.]]])\n",
        "b= a.reshape(3,4)\n",
        "print(a)\n",
        "print(b)"
      ],
      "metadata": {
        "id": "jZvIdvJDOyVY",
        "colab": {
          "base_uri": "https://localhost:8080/"
        },
        "outputId": "ca575207-cafb-4f60-868b-f8d1f3a5e060"
      },
      "execution_count": 12,
      "outputs": [
        {
          "output_type": "stream",
          "name": "stdout",
          "text": [
            "tensor([[[2., 2., 2., 5.]],\n",
            "\n",
            "        [[5., 5., 2., 5.]],\n",
            "\n",
            "        [[9., 5., 5., 2.]]])\n",
            "tensor([[2., 2., 2., 5.],\n",
            "        [5., 5., 2., 5.],\n",
            "        [9., 5., 5., 2.]])\n"
          ]
        }
      ]
    },
    {
      "cell_type": "markdown",
      "source": [
        "4.\n",
        "\n",
        "[[[1., 2., 2.]],  \n",
        "   [[3., 4., 4.]]]"
      ],
      "metadata": {
        "id": "ajWBo2VXawqL"
      }
    },
    {
      "cell_type": "code",
      "source": [
        "import torch\n",
        "a = torch.FloatTensor([[1, 2 ,2],\n",
        "                       [3, 4, 4]])\n",
        "b= a.reshape(2,1,3)\n",
        "\n",
        "print(a)\n",
        "print(b)\n",
        "print(b.size())"
      ],
      "metadata": {
        "id": "pgi78cfkZ6NS",
        "colab": {
          "base_uri": "https://localhost:8080/"
        },
        "outputId": "08b7c516-2d90-429d-80f6-57ab41cb2442"
      },
      "execution_count": 13,
      "outputs": [
        {
          "output_type": "stream",
          "name": "stdout",
          "text": [
            "tensor([[1., 2., 2.],\n",
            "        [3., 4., 4.]])\n",
            "tensor([[[1., 2., 2.]],\n",
            "\n",
            "        [[3., 4., 4.]]])\n",
            "torch.Size([2, 1, 3])\n"
          ]
        }
      ]
    },
    {
      "cell_type": "markdown",
      "source": [
        "5. [[5., 6., 1.],  \n",
        "     [7., 8., 1.]]\n",
        "\n"
      ],
      "metadata": {
        "id": "ZVFhVdHiXGs5"
      }
    },
    {
      "cell_type": "code",
      "source": [
        "import torch\n",
        "a = torch.FloatTensor([\n",
        "                       [[1, 2,1],\n",
        "                        [3, 4,1]],\n",
        "\n",
        "                       [[5, 6,1],\n",
        "                        [7, 8,1]],\n",
        "\n",
        "                       [[9, 10,1],\n",
        "                        [11, 12,1]]])\n",
        "b= a[1].reshape(2,3)\n",
        "\n",
        "\n",
        "print(a)\n",
        "print(b)\n",
        "print(b.size())"
      ],
      "metadata": {
        "id": "Rtng0qrqXXy8",
        "colab": {
          "base_uri": "https://localhost:8080/"
        },
        "outputId": "621b36df-3d54-4e19-bdbf-ca612f66cbd9"
      },
      "execution_count": 15,
      "outputs": [
        {
          "output_type": "stream",
          "name": "stdout",
          "text": [
            "tensor([[[ 1.,  2.,  1.],\n",
            "         [ 3.,  4.,  1.]],\n",
            "\n",
            "        [[ 5.,  6.,  1.],\n",
            "         [ 7.,  8.,  1.]],\n",
            "\n",
            "        [[ 9., 10.,  1.],\n",
            "         [11., 12.,  1.]]])\n",
            "tensor([[5., 6., 1.],\n",
            "        [7., 8., 1.]])\n",
            "torch.Size([2, 3])\n"
          ]
        }
      ]
    },
    {
      "cell_type": "markdown",
      "source": [
        "  6.  [[1., 1.],  \n",
        "     [1., 1.],  \n",
        "     [1., 1.]]  "
      ],
      "metadata": {
        "id": "3bVtWlfHW0s3"
      }
    },
    {
      "cell_type": "code",
      "source": [
        "import torch\n",
        "a = torch.FloatTensor([\n",
        "                       [[1, 2,1],\n",
        "                        [3, 4,1]],\n",
        "\n",
        "                       [[5, 6,1],\n",
        "                        [7, 8,1]],\n",
        "\n",
        "                       [[9, 10,1],\n",
        "                        [11, 12,1]]])\n",
        "b= a[:,:,2]\n",
        "\n",
        "\n",
        "print(a)\n",
        "print(b)\n",
        "print(b.size())"
      ],
      "metadata": {
        "id": "TeL25xgFW1FQ",
        "colab": {
          "base_uri": "https://localhost:8080/"
        },
        "outputId": "3c5f9fc5-3512-4599-d839-6e423341b1bb"
      },
      "execution_count": 17,
      "outputs": [
        {
          "output_type": "stream",
          "name": "stdout",
          "text": [
            "tensor([[[ 1.,  2.,  1.],\n",
            "         [ 3.,  4.,  1.]],\n",
            "\n",
            "        [[ 5.,  6.,  1.],\n",
            "         [ 7.,  8.,  1.]],\n",
            "\n",
            "        [[ 9., 10.,  1.],\n",
            "         [11., 12.,  1.]]])\n",
            "tensor([[1., 1.],\n",
            "        [1., 1.],\n",
            "        [1., 1.]])\n",
            "torch.Size([3, 2])\n"
          ]
        }
      ]
    },
    {
      "cell_type": "markdown",
      "source": [
        "7. [    [ 2.],  \n",
        "     [ 6.],  \n",
        "     [10.]  ]"
      ],
      "metadata": {
        "id": "Cg3PMcUnXZr7"
      }
    },
    {
      "cell_type": "code",
      "source": [
        "import torch\n",
        "a = torch.FloatTensor([\n",
        "                       [[1, 2,1],\n",
        "                        [3, 4,1]],\n",
        "\n",
        "                       [[5, 6,1],\n",
        "                        [7, 8,1]],\n",
        "\n",
        "                       [[9, 10,1],\n",
        "                        [11, 12,1]]])\n",
        "b= a[:,0,1].reshape(3,1)\n",
        "\n",
        "print(a)\n",
        "print(b)\n",
        "print(b.size())"
      ],
      "metadata": {
        "id": "Ux4rOnHHXZD_",
        "colab": {
          "base_uri": "https://localhost:8080/"
        },
        "outputId": "aa580962-8edb-4965-8807-5d2d63f74ce6"
      },
      "execution_count": 19,
      "outputs": [
        {
          "output_type": "stream",
          "name": "stdout",
          "text": [
            "tensor([[[ 1.,  2.,  1.],\n",
            "         [ 3.,  4.,  1.]],\n",
            "\n",
            "        [[ 5.,  6.,  1.],\n",
            "         [ 7.,  8.,  1.]],\n",
            "\n",
            "        [[ 9., 10.,  1.],\n",
            "         [11., 12.,  1.]]])\n",
            "tensor([[ 2.],\n",
            "        [ 6.],\n",
            "        [10.]])\n",
            "torch.Size([3, 1])\n"
          ]
        }
      ]
    },
    {
      "cell_type": "markdown",
      "source": [
        "8. [[ 1.,  3., 10., 12.],  \n",
        "      [ 4.,  6., 13., 15.],  \n",
        "      [ 7.,  9., 16., 18.]]  "
      ],
      "metadata": {
        "id": "DsCU_aqeYJwA"
      }
    },
    {
      "cell_type": "code",
      "source": [
        "import torch\n",
        "a1 =  torch.FloatTensor([[1,  3],\n",
        "                       [4,  6],\n",
        "                       [7,  9]])\n",
        "a2 = torch.FloatTensor([[10,  12],\n",
        "                       [13,  15],\n",
        "                       [16,  18]])\n",
        "b= torch.cat([a1,a2],dim = -1)\n",
        "\n",
        "\n",
        "print(b)\n",
        "print(b.size())"
      ],
      "metadata": {
        "id": "7R2O7afjXtgI",
        "colab": {
          "base_uri": "https://localhost:8080/"
        },
        "outputId": "db02e337-1155-4f0f-ab49-250ac7e8513f"
      },
      "execution_count": 20,
      "outputs": [
        {
          "output_type": "stream",
          "name": "stdout",
          "text": [
            "tensor([[ 1.,  3., 10., 12.],\n",
            "        [ 4.,  6., 13., 15.],\n",
            "        [ 7.,  9., 16., 18.]])\n",
            "torch.Size([3, 4])\n"
          ]
        }
      ]
    },
    {
      "cell_type": "markdown",
      "source": [
        "  9.     [[[ 1.,  2.],  \n",
        "         [ 3.,  4.],  \n",
        "         [ 5.,  6.]],  \n",
        "        [[10., 11.],  \n",
        "         [12., 13.],  \n",
        "         [14., 15.]]]   "
      ],
      "metadata": {
        "id": "Wd0sm0-rYzJw"
      }
    },
    {
      "cell_type": "code",
      "source": [
        "import torch\n",
        "a1 =  torch.FloatTensor([[1,  2],\n",
        "                       [3,  4],\n",
        "                       [5,  6]])\n",
        "a2 = torch.FloatTensor([[10,  11],\n",
        "                       [12,  13],\n",
        "                       [14,  15]])\n",
        "b= torch.cat([a1,a2],dim = 0)\n",
        "print(b)\n",
        "print(b.size())"
      ],
      "metadata": {
        "id": "c1NVuz98YW_q",
        "colab": {
          "base_uri": "https://localhost:8080/"
        },
        "outputId": "50dd31c7-ee53-4080-ef82-452887df2099"
      },
      "execution_count": 21,
      "outputs": [
        {
          "output_type": "stream",
          "name": "stdout",
          "text": [
            "tensor([[ 1.,  2.],\n",
            "        [ 3.,  4.],\n",
            "        [ 5.,  6.],\n",
            "        [10., 11.],\n",
            "        [12., 13.],\n",
            "        [14., 15.]])\n",
            "torch.Size([6, 2])\n"
          ]
        }
      ]
    },
    {
      "cell_type": "markdown",
      "source": [
        "10.   [[[1., 2., 3.],  \n",
        "         [1., 2., 3.],  \n",
        "         [1., 2., 3.],  \n",
        "         [1., 2., 3.]],  \n",
        "\n",
        "        [[4., 5., 6.],  \n",
        "         [4., 5., 6.],  \n",
        "         [4., 5., 6.],  \n",
        "         [4., 5., 6.]]]  "
      ],
      "metadata": {
        "id": "bsLinTfoZjor"
      }
    },
    {
      "cell_type": "code",
      "source": [
        "import torch\n",
        "a = torch.FloatTensor([[[1, 2, 3]],\n",
        "                       [[4, 5, 6]]])\n",
        "print(a.size)\n",
        "b= a.expand(2,4,3)\n",
        "print(b)\n",
        "print(b.size())"
      ],
      "metadata": {
        "id": "ekiPSptGZHry",
        "colab": {
          "base_uri": "https://localhost:8080/"
        },
        "outputId": "d380b261-068f-4c62-9ec1-fa0219613851"
      },
      "execution_count": 33,
      "outputs": [
        {
          "output_type": "stream",
          "name": "stdout",
          "text": [
            "<built-in method size of Tensor object at 0x7bf1fe4a5b20>\n",
            "tensor([[[1., 2., 3.],\n",
            "         [1., 2., 3.],\n",
            "         [1., 2., 3.],\n",
            "         [1., 2., 3.]],\n",
            "\n",
            "        [[4., 5., 6.],\n",
            "         [4., 5., 6.],\n",
            "         [4., 5., 6.],\n",
            "         [4., 5., 6.]]])\n",
            "torch.Size([2, 4, 3])\n"
          ]
        }
      ]
    },
    {
      "cell_type": "markdown",
      "source": [
        "11.[[1, 2],  \n",
        "          [0, 2],  \n",
        "          [1, 2]]  "
      ],
      "metadata": {
        "id": "4cCCKABsaWIr"
      }
    },
    {
      "cell_type": "code",
      "source": [
        "import torch\n",
        "a = torch.FloatTensor([\n",
        "                       [[1, 2,1],\n",
        "                        [3, 4,7]],\n",
        "\n",
        "                       [[9, 6,1],\n",
        "                        [9, 8,15]],\n",
        "\n",
        "                       [[9, 10,1],\n",
        "                        [13, 12,17]]])\n",
        "\n",
        "print(a.size())\n",
        "b= a.argmax(dim = -1)\n",
        "print(b)"
      ],
      "metadata": {
        "id": "8RNCWZgSZsSR",
        "colab": {
          "base_uri": "https://localhost:8080/"
        },
        "outputId": "5ae6a47f-668d-4caa-a106-e9b19ce185f0"
      },
      "execution_count": 39,
      "outputs": [
        {
          "output_type": "stream",
          "name": "stdout",
          "text": [
            "torch.Size([3, 2, 3])\n",
            "tensor([[1, 2],\n",
            "        [0, 2],\n",
            "        [1, 2]])\n"
          ]
        }
      ]
    },
    {
      "cell_type": "markdown",
      "source": [
        "12. [[[ 1.,  2.,  1.],  \n",
        "       [ 3.,  4.,  7.]],  \n",
        "      [[ 9.,  6.,  1.],  \n",
        "      [ 9.,  8., -1.]],  \n",
        "      [[ 9., -1.,  1.],  \n",
        "       [-1., -1., -1.]]]  "
      ],
      "metadata": {
        "id": "PJpHiUzLbGnb"
      }
    },
    {
      "cell_type": "code",
      "source": [
        "import torch\n",
        "a = torch.FloatTensor([\n",
        "                       [[1, 2,1],\n",
        "                        [3, 4,7]],\n",
        "                       [[9, 6,1],\n",
        "                        [9, 8,15]],\n",
        "                       [[9, 10,1],\n",
        "                        [13, 12,17]]])\n",
        "\n",
        "print(a.size())\n",
        "\n",
        "mask = a >= 10\n",
        "b= a.masked_fill(mask,value = -1)\n",
        "print(b)"
      ],
      "metadata": {
        "id": "rgWzYae8agQy",
        "colab": {
          "base_uri": "https://localhost:8080/"
        },
        "outputId": "55bc6d74-8168-4ef0-81f9-00679face62b"
      },
      "execution_count": 37,
      "outputs": [
        {
          "output_type": "stream",
          "name": "stdout",
          "text": [
            "torch.Size([3, 2, 3])\n",
            "tensor([[[ 1.,  2.,  1.],\n",
            "         [ 3.,  4.,  7.]],\n",
            "\n",
            "        [[ 9.,  6.,  1.],\n",
            "         [ 9.,  8., -1.]],\n",
            "\n",
            "        [[ 9., -1.,  1.],\n",
            "         [-1., -1., -1.]]])\n"
          ]
        }
      ]
    },
    {
      "cell_type": "code",
      "source": [],
      "metadata": {
        "id": "tr7iGr4g-Pkm"
      },
      "execution_count": null,
      "outputs": []
    }
  ]
}