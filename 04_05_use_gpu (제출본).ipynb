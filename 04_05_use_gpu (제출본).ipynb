{
  "cells": [
    {
      "cell_type": "markdown",
      "metadata": {
        "id": "NogIl-xeuEIl"
      },
      "source": [
        "# How to use GPU"
      ]
    },
    {
      "cell_type": "code",
      "execution_count": 1,
      "metadata": {
        "id": "o6i8iWsbuEIo"
      },
      "outputs": [],
      "source": [
        "import torch\n",
        "import torch.nn as nn"
      ]
    },
    {
      "cell_type": "markdown",
      "metadata": {
        "id": "t6hEXgTmuEIq"
      },
      "source": [
        "## Convert to CUDA tensor: cuda()"
      ]
    },
    {
      "cell_type": "code",
      "execution_count": 2,
      "metadata": {
        "id": "s-ZYt7qmuEIq",
        "colab": {
          "base_uri": "https://localhost:8080/"
        },
        "outputId": "3cc0d03a-f531-4179-ae37-62f0e0595cc8"
      },
      "outputs": [
        {
          "output_type": "execute_result",
          "data": {
            "text/plain": [
              "tensor([[0., 0.],\n",
              "        [0., 0.]], device='cuda:0')"
            ]
          },
          "metadata": {},
          "execution_count": 2
        }
      ],
      "source": [
        "x = torch.cuda.FloatTensor(2, 2)\n",
        "\n",
        "x"
      ]
    },
    {
      "cell_type": "code",
      "execution_count": 3,
      "metadata": {
        "id": "whHE0CcduEIs",
        "colab": {
          "base_uri": "https://localhost:8080/"
        },
        "outputId": "4bc14b25-7cfc-4e2d-e7fe-12e5c3c60cb8"
      },
      "outputs": [
        {
          "output_type": "execute_result",
          "data": {
            "text/plain": [
              "tensor([[2.3227e+24, 4.5227e-41],\n",
              "        [2.3227e+24, 4.5227e-41]])"
            ]
          },
          "metadata": {},
          "execution_count": 3
        }
      ],
      "source": [
        "x = torch.FloatTensor(2, 2)\n",
        "\n",
        "x"
      ]
    },
    {
      "cell_type": "code",
      "execution_count": 4,
      "metadata": {
        "id": "naRYU4o2uEIs",
        "colab": {
          "base_uri": "https://localhost:8080/"
        },
        "outputId": "e0ec3517-e047-44a7-b00d-046e20ec347d"
      },
      "outputs": [
        {
          "output_type": "execute_result",
          "data": {
            "text/plain": [
              "tensor([[2.3227e+24, 4.5227e-41],\n",
              "        [2.3227e+24, 4.5227e-41]], device='cuda:0')"
            ]
          },
          "metadata": {},
          "execution_count": 4
        }
      ],
      "source": [
        "x.cuda()"
      ]
    },
    {
      "cell_type": "code",
      "execution_count": 5,
      "metadata": {
        "id": "cIo0CX6CuEIt"
      },
      "outputs": [],
      "source": [
        "d = torch.device('cuda:0')"
      ]
    },
    {
      "cell_type": "code",
      "execution_count": 6,
      "metadata": {
        "id": "7dHt74_SuEIt",
        "colab": {
          "base_uri": "https://localhost:8080/"
        },
        "outputId": "3c8f6628-a784-4042-b7a0-0137eed60a16"
      },
      "outputs": [
        {
          "output_type": "execute_result",
          "data": {
            "text/plain": [
              "tensor([[2.3227e+24, 4.5227e-41],\n",
              "        [2.3227e+24, 4.5227e-41]], device='cuda:0')"
            ]
          },
          "metadata": {},
          "execution_count": 6
        }
      ],
      "source": [
        "x.cuda(device=d)"
      ]
    },
    {
      "cell_type": "code",
      "execution_count": 7,
      "metadata": {
        "id": "8rg7M_DhuEIu",
        "colab": {
          "base_uri": "https://localhost:8080/"
        },
        "outputId": "634f382e-2367-46de-e1fd-180efa41a9cc"
      },
      "outputs": [
        {
          "output_type": "execute_result",
          "data": {
            "text/plain": [
              "device(type='cpu')"
            ]
          },
          "metadata": {},
          "execution_count": 7
        }
      ],
      "source": [
        "x.device"
      ]
    },
    {
      "cell_type": "markdown",
      "metadata": {
        "id": "4sVmuytuuEIu"
      },
      "source": [
        "## Convert to CUDA tensor: to()"
      ]
    },
    {
      "cell_type": "code",
      "execution_count": 8,
      "metadata": {
        "id": "7LjlFNOKuEIv",
        "colab": {
          "base_uri": "https://localhost:8080/"
        },
        "outputId": "354d993c-7507-43c8-d94e-4e5a1c14ebdf"
      },
      "outputs": [
        {
          "output_type": "execute_result",
          "data": {
            "text/plain": [
              "tensor([[2.3227e+24, 4.5227e-41],\n",
              "        [2.3227e+24, 4.5227e-41]], device='cuda:0')"
            ]
          },
          "metadata": {},
          "execution_count": 8
        }
      ],
      "source": [
        "x.to(device=d)"
      ]
    },
    {
      "cell_type": "markdown",
      "metadata": {
        "id": "lWOV0PgcuEIv"
      },
      "source": [
        "## Convert to CPU tensor from CUDA tensor"
      ]
    },
    {
      "cell_type": "code",
      "execution_count": 9,
      "metadata": {
        "id": "9_7tmqL-uEIw"
      },
      "outputs": [],
      "source": [
        "x = torch.cuda.FloatTensor(2, 2)"
      ]
    },
    {
      "cell_type": "code",
      "execution_count": 10,
      "metadata": {
        "id": "Ozh05NacuEIw"
      },
      "outputs": [],
      "source": [
        "x = x.cpu()"
      ]
    },
    {
      "cell_type": "code",
      "execution_count": 11,
      "metadata": {
        "id": "8zEZPx8TuEIx"
      },
      "outputs": [],
      "source": [
        "d = torch.device('cpu')\n",
        "x = x.to(d)"
      ]
    },
    {
      "cell_type": "markdown",
      "metadata": {
        "id": "lLqllLTJuEIx"
      },
      "source": [
        "## Move model from CPU to GPU."
      ]
    },
    {
      "cell_type": "code",
      "execution_count": 12,
      "metadata": {
        "id": "aHnS4bjNuEIx"
      },
      "outputs": [],
      "source": [
        "def print_params(model):\n",
        "    for p in model.parameters():\n",
        "        print(p)"
      ]
    },
    {
      "cell_type": "code",
      "execution_count": 13,
      "metadata": {
        "id": "2bV6h6WruEIx",
        "colab": {
          "base_uri": "https://localhost:8080/"
        },
        "outputId": "748f19be-d1b2-4f42-e3c7-e332f779d94d"
      },
      "outputs": [
        {
          "output_type": "stream",
          "name": "stdout",
          "text": [
            "Parameter containing:\n",
            "tensor([[ 0.3533, -0.5705],\n",
            "        [-0.2135, -0.3413]], requires_grad=True)\n",
            "Parameter containing:\n",
            "tensor([-0.4877, -0.3480], requires_grad=True)\n"
          ]
        }
      ],
      "source": [
        "linear = nn.Linear(2, 2)\n",
        "\n",
        "print_params(linear)"
      ]
    },
    {
      "cell_type": "code",
      "execution_count": 14,
      "metadata": {
        "id": "jRb2aYheuEIy",
        "colab": {
          "base_uri": "https://localhost:8080/"
        },
        "outputId": "d7008495-9e8e-4a68-8a6a-8cd000e889a0"
      },
      "outputs": [
        {
          "output_type": "stream",
          "name": "stdout",
          "text": [
            "Parameter containing:\n",
            "tensor([[ 0.3533, -0.5705],\n",
            "        [-0.2135, -0.3413]], device='cuda:0', requires_grad=True)\n",
            "Parameter containing:\n",
            "tensor([-0.4877, -0.3480], device='cuda:0', requires_grad=True)\n"
          ]
        }
      ],
      "source": [
        "linear = linear.cuda()\n",
        "\n",
        "print_params(linear)"
      ]
    },
    {
      "cell_type": "code",
      "execution_count": 15,
      "metadata": {
        "id": "F5nnAlyDuEIy",
        "colab": {
          "base_uri": "https://localhost:8080/"
        },
        "outputId": "b264be89-b1a9-44eb-8c75-43f045dfe276"
      },
      "outputs": [
        {
          "output_type": "stream",
          "name": "stdout",
          "text": [
            "Parameter containing:\n",
            "tensor([[ 0.3533, -0.5705],\n",
            "        [-0.2135, -0.3413]], requires_grad=True)\n",
            "Parameter containing:\n",
            "tensor([-0.4877, -0.3480], requires_grad=True)\n"
          ]
        }
      ],
      "source": [
        "linear = linear.cpu()\n",
        "\n",
        "print_params(linear)"
      ]
    },
    {
      "cell_type": "code",
      "execution_count": 16,
      "metadata": {
        "id": "KU79G27cuEIz",
        "colab": {
          "base_uri": "https://localhost:8080/"
        },
        "outputId": "91ec6382-122b-4799-f888-8e63356bcc95"
      },
      "outputs": [
        {
          "output_type": "stream",
          "name": "stdout",
          "text": [
            "Parameter containing:\n",
            "tensor([[ 0.3533, -0.5705],\n",
            "        [-0.2135, -0.3413]], device='cuda:0', requires_grad=True)\n",
            "Parameter containing:\n",
            "tensor([-0.4877, -0.3480], device='cuda:0', requires_grad=True)\n"
          ]
        }
      ],
      "source": [
        "d = torch.device('cuda:0')\n",
        "linear = linear.to(d)\n",
        "\n",
        "print_params(linear)"
      ]
    },
    {
      "cell_type": "markdown",
      "metadata": {
        "id": "DxkjQUckuEIz"
      },
      "source": [
        "Note that nn.Module class does not have 'device' property."
      ]
    },
    {
      "cell_type": "code",
      "execution_count": 18,
      "metadata": {
        "id": "zlGOdVfquEI0",
        "colab": {
          "base_uri": "https://localhost:8080/",
          "height": 331
        },
        "outputId": "8f6f1a57-a66a-42cf-fe02-2464e19728bf"
      },
      "outputs": [
        {
          "output_type": "error",
          "ename": "AttributeError",
          "evalue": "ignored",
          "traceback": [
            "\u001b[0;31m---------------------------------------------------------------------------\u001b[0m",
            "\u001b[0;31mAttributeError\u001b[0m                            Traceback (most recent call last)",
            "\u001b[0;32m<ipython-input-18-6a1b244aea79>\u001b[0m in \u001b[0;36m<cell line: 1>\u001b[0;34m()\u001b[0m\n\u001b[0;32m----> 1\u001b[0;31m \u001b[0mlinear\u001b[0m\u001b[0;34m.\u001b[0m\u001b[0mdevice\u001b[0m\u001b[0;34m\u001b[0m\u001b[0;34m\u001b[0m\u001b[0m\n\u001b[0m\u001b[1;32m      2\u001b[0m \u001b[0mlinear\u001b[0m\u001b[0;34m\u001b[0m\u001b[0;34m\u001b[0m\u001b[0m\n",
            "\u001b[0;32m/usr/local/lib/python3.10/dist-packages/torch/nn/modules/module.py\u001b[0m in \u001b[0;36m__getattr__\u001b[0;34m(self, name)\u001b[0m\n\u001b[1;32m   1612\u001b[0m             \u001b[0;32mif\u001b[0m \u001b[0mname\u001b[0m \u001b[0;32min\u001b[0m \u001b[0mmodules\u001b[0m\u001b[0;34m:\u001b[0m\u001b[0;34m\u001b[0m\u001b[0;34m\u001b[0m\u001b[0m\n\u001b[1;32m   1613\u001b[0m                 \u001b[0;32mreturn\u001b[0m \u001b[0mmodules\u001b[0m\u001b[0;34m[\u001b[0m\u001b[0mname\u001b[0m\u001b[0;34m]\u001b[0m\u001b[0;34m\u001b[0m\u001b[0;34m\u001b[0m\u001b[0m\n\u001b[0;32m-> 1614\u001b[0;31m         raise AttributeError(\"'{}' object has no attribute '{}'\".format(\n\u001b[0m\u001b[1;32m   1615\u001b[0m             type(self).__name__, name))\n\u001b[1;32m   1616\u001b[0m \u001b[0;34m\u001b[0m\u001b[0m\n",
            "\u001b[0;31mAttributeError\u001b[0m: 'Linear' object has no attribute 'device'"
          ]
        }
      ],
      "source": [
        "linear.device\n"
      ]
    },
    {
      "cell_type": "markdown",
      "metadata": {
        "id": "xeqBUs4duEI0"
      },
      "source": [
        "## Tricks"
      ]
    },
    {
      "cell_type": "code",
      "execution_count": 19,
      "metadata": {
        "id": "o0TtYc2_uEI0"
      },
      "outputs": [],
      "source": [
        "x = torch.cuda.FloatTensor(2, 2)"
      ]
    },
    {
      "cell_type": "code",
      "execution_count": 20,
      "metadata": {
        "id": "cFg_s1lzuEI1",
        "colab": {
          "base_uri": "https://localhost:8080/"
        },
        "outputId": "f925f6ab-2009-4c9b-be92-a7072da3dee0"
      },
      "outputs": [
        {
          "output_type": "execute_result",
          "data": {
            "text/plain": [
              "tensor([[-3.6893e+19,  1.6740e+00],\n",
              "        [ 2.1350e-01,  3.4125e-01]], device='cuda:0')"
            ]
          },
          "metadata": {},
          "execution_count": 20
        }
      ],
      "source": [
        "x.new(2, 2)"
      ]
    },
    {
      "cell_type": "code",
      "execution_count": 21,
      "metadata": {
        "id": "C_pZuXiiuEI1",
        "colab": {
          "base_uri": "https://localhost:8080/"
        },
        "outputId": "10a9ef11-8567-4f2c-b385-0ad8b93a16d1"
      },
      "outputs": [
        {
          "output_type": "execute_result",
          "data": {
            "text/plain": [
              "tensor([[0., 0.],\n",
              "        [0., 0.]], device='cuda:0')"
            ]
          },
          "metadata": {},
          "execution_count": 21
        }
      ],
      "source": [
        "torch.zeros_like(x)"
      ]
    },
    {
      "cell_type": "code",
      "execution_count": 22,
      "metadata": {
        "id": "6B5oZEEtuEI1",
        "colab": {
          "base_uri": "https://localhost:8080/"
        },
        "outputId": "c6908aa5-fdb8-4c5b-ca5e-7d40a65794a6"
      },
      "outputs": [
        {
          "output_type": "execute_result",
          "data": {
            "text/plain": [
              "tensor([[1., 1.],\n",
              "        [1., 1.]], device='cuda:0')"
            ]
          },
          "metadata": {},
          "execution_count": 22
        }
      ],
      "source": [
        "torch.ones_like(x)"
      ]
    },
    {
      "cell_type": "code",
      "execution_count": 23,
      "metadata": {
        "id": "-Wf6oVDduEI2",
        "colab": {
          "base_uri": "https://localhost:8080/"
        },
        "outputId": "dc2c4c9c-db3a-4500-c990-79d565ff6970"
      },
      "outputs": [
        {
          "output_type": "execute_result",
          "data": {
            "text/plain": [
              "tensor([[1., 1.],\n",
              "        [1., 1.]], device='cuda:0')"
            ]
          },
          "metadata": {},
          "execution_count": 23
        }
      ],
      "source": [
        "list(linear.parameters())[0].new(2, 2)"
      ]
    },
    {
      "cell_type": "code",
      "execution_count": null,
      "metadata": {
        "id": "_pfxv_LUuEI2"
      },
      "outputs": [],
      "source": []
    }
  ],
  "metadata": {
    "kernelspec": {
      "display_name": "Python 3",
      "name": "python3"
    },
    "language_info": {
      "codemirror_mode": {
        "name": "ipython",
        "version": 3
      },
      "file_extension": ".py",
      "mimetype": "text/x-python",
      "name": "python",
      "nbconvert_exporter": "python",
      "pygments_lexer": "ipython3",
      "version": "3.8.5"
    },
    "colab": {
      "provenance": [],
      "gpuType": "T4"
    },
    "accelerator": "GPU"
  },
  "nbformat": 4,
  "nbformat_minor": 0
}