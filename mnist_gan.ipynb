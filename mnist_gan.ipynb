{
  "cells": [
    {
      "cell_type": "markdown",
      "metadata": {
        "id": "blcvghznQRqy"
      },
      "source": [
        "[코드 10.2.1]"
      ],
      "id": "blcvghznQRqy"
    },
    {
      "cell_type": "code",
      "execution_count": null,
      "metadata": {
        "colab": {
          "base_uri": "https://localhost:8080/"
        },
        "id": "CcoEKvmHQRq1",
        "outputId": "a711adc3-5474-4b4e-b2e9-de7aefed012c"
      },
      "outputs": [
        {
          "output_type": "stream",
          "name": "stdout",
          "text": [
            "Downloading http://yann.lecun.com/exdb/mnist/train-images-idx3-ubyte.gz\n",
            "Downloading http://yann.lecun.com/exdb/mnist/train-images-idx3-ubyte.gz to ./mnist_data/MNIST/raw/train-images-idx3-ubyte.gz\n"
          ]
        },
        {
          "output_type": "stream",
          "name": "stderr",
          "text": [
            "100%|██████████| 9912422/9912422 [00:00<00:00, 40534778.14it/s]\n"
          ]
        },
        {
          "output_type": "stream",
          "name": "stdout",
          "text": [
            "Extracting ./mnist_data/MNIST/raw/train-images-idx3-ubyte.gz to ./mnist_data/MNIST/raw\n",
            "\n",
            "Downloading http://yann.lecun.com/exdb/mnist/train-labels-idx1-ubyte.gz\n",
            "Downloading http://yann.lecun.com/exdb/mnist/train-labels-idx1-ubyte.gz to ./mnist_data/MNIST/raw/train-labels-idx1-ubyte.gz\n"
          ]
        },
        {
          "output_type": "stream",
          "name": "stderr",
          "text": [
            "100%|██████████| 28881/28881 [00:00<00:00, 36796990.83it/s]"
          ]
        },
        {
          "output_type": "stream",
          "name": "stdout",
          "text": [
            "Extracting ./mnist_data/MNIST/raw/train-labels-idx1-ubyte.gz to ./mnist_data/MNIST/raw\n",
            "\n",
            "Downloading http://yann.lecun.com/exdb/mnist/t10k-images-idx3-ubyte.gz\n",
            "Downloading http://yann.lecun.com/exdb/mnist/t10k-images-idx3-ubyte.gz to ./mnist_data/MNIST/raw/t10k-images-idx3-ubyte.gz\n"
          ]
        },
        {
          "output_type": "stream",
          "name": "stderr",
          "text": [
            "\n",
            "100%|██████████| 1648877/1648877 [00:00<00:00, 16725736.65it/s]\n"
          ]
        },
        {
          "output_type": "stream",
          "name": "stdout",
          "text": [
            "Extracting ./mnist_data/MNIST/raw/t10k-images-idx3-ubyte.gz to ./mnist_data/MNIST/raw\n",
            "\n",
            "Downloading http://yann.lecun.com/exdb/mnist/t10k-labels-idx1-ubyte.gz\n",
            "Downloading http://yann.lecun.com/exdb/mnist/t10k-labels-idx1-ubyte.gz to ./mnist_data/MNIST/raw/t10k-labels-idx1-ubyte.gz\n"
          ]
        },
        {
          "output_type": "stream",
          "name": "stderr",
          "text": [
            "100%|██████████| 4542/4542 [00:00<00:00, 16565677.19it/s]"
          ]
        },
        {
          "output_type": "stream",
          "name": "stdout",
          "text": [
            "Extracting ./mnist_data/MNIST/raw/t10k-labels-idx1-ubyte.gz to ./mnist_data/MNIST/raw\n",
            "\n"
          ]
        },
        {
          "output_type": "stream",
          "name": "stderr",
          "text": [
            "\n"
          ]
        },
        {
          "output_type": "stream",
          "name": "stdout",
          "text": [
            "Epoch [0/10]: D_loss: 0.0326, G_loss: 5.5315\n",
            "Epoch [1/10]: D_loss: 0.0312, G_loss: 6.1597\n",
            "Epoch [2/10]: D_loss: 0.7214, G_loss: 3.9685\n",
            "Epoch [3/10]: D_loss: 0.4644, G_loss: 2.8068\n",
            "Epoch [4/10]: D_loss: 1.0929, G_loss: 2.9090\n",
            "Epoch [5/10]: D_loss: 0.1776, G_loss: 3.6615\n",
            "Epoch [6/10]: D_loss: 0.0485, G_loss: 4.4963\n",
            "Epoch [7/10]: D_loss: 0.1182, G_loss: 4.7949\n",
            "Epoch [8/10]: D_loss: 0.0529, G_loss: 4.9178\n",
            "Epoch [9/10]: D_loss: 0.0543, G_loss: 7.7803\n"
          ]
        }
      ],
      "source": [
        "# prerequisites\n",
        "import os\n",
        "import torch\n",
        "import torch.nn as nn\n",
        "import torch.nn.functional as F\n",
        "import torch.optim as optim\n",
        "from torchvision import datasets, transforms\n",
        "from torchvision.utils import save_image\n",
        "\n",
        "# Device configuration\n",
        "device = torch.device('cuda' if torch.cuda.is_available() else 'cpu')\n",
        "\n",
        "# Hyper-parameters\n",
        "latent_size = 100\n",
        "hidden_size = 256\n",
        "image_size = 784\n",
        "num_epochs = 10\n",
        "BATCH_SIZE = 100\n",
        "\n",
        "# MNIST Dataset\n",
        "transform = transforms.Compose([\n",
        "    transforms.ToTensor(),\n",
        "    transforms.Normalize(mean=(0.5), std=(0.5))])\n",
        "\n",
        "train_dataset = datasets.MNIST(root='./mnist_data/', train=True, transform=transform, download=True)\n",
        "\n",
        "# Data Loader\n",
        "torch.manual_seed(0)\n",
        "\n",
        "train_loader = torch.utils.data.DataLoader(dataset=train_dataset, batch_size=BATCH_SIZE, shuffle=True)\n",
        "\n",
        "D = nn.Sequential(\n",
        "    nn.Linear(image_size, hidden_size),\n",
        "    nn.LeakyReLU(0.2),\n",
        "    nn.Linear(hidden_size, hidden_size),\n",
        "    nn.LeakyReLU(0.2),\n",
        "    nn.Linear(hidden_size, 1),\n",
        "    nn.Sigmoid())\n",
        "\n",
        "G = nn.Sequential(\n",
        "    nn.Linear(latent_size, hidden_size),\n",
        "    nn.ReLU(),\n",
        "    nn.Linear(hidden_size, hidden_size),\n",
        "    nn.ReLU(),\n",
        "    nn.Linear(hidden_size, image_size),\n",
        "    nn.Tanh())\n",
        "\n",
        "D.to(device)\n",
        "G.to(device)\n",
        "\n",
        "# loss function\n",
        "loss_function = nn.BCELoss()\n",
        "\n",
        "# optimizer\n",
        "learning_rate = 0.0002\n",
        "D_optimizer = torch.optim.Adam(D.parameters(), lr=learning_rate)\n",
        "G_optimizer = torch.optim.Adam(G.parameters(), lr=learning_rate)\n",
        "\n",
        "D_loss_epochs, G_loss_epochs = [], []\n",
        "for epoch in range(num_epochs):\n",
        "    for i, (images, _) in enumerate(train_loader):\n",
        "        images = images.reshape(BATCH_SIZE, -1).to(device)\n",
        "\n",
        "        # Create the labels which are later used as input for the BCE loss\n",
        "        real_labels = torch.ones(BATCH_SIZE, 1).to(device)\n",
        "        fake_labels = torch.zeros(BATCH_SIZE, 1).to(device)\n",
        "\n",
        "        # ======================================================== #\n",
        "        #                      Train the discriminator             #\n",
        "        # ======================================================== #\n",
        "\n",
        "        outputs = D(images)\n",
        "        D_loss_real = loss_function(outputs, real_labels)\n",
        "\n",
        "        # Compute BCELoss using fake images\n",
        "        # First term of the loss is always zero since fake_labels == 0\n",
        "        z = torch.randn(BATCH_SIZE, latent_size).to(device)\n",
        "        fake_images = G(z)\n",
        "        outputs = D(fake_images)\n",
        "        D_loss_fake = loss_function(outputs, fake_labels)\n",
        "\n",
        "        # Backprop and optimize\n",
        "        D_loss = D_loss_real + D_loss_fake\n",
        "        D_optimizer.zero_grad()\n",
        "        D_loss.backward()\n",
        "        D_optimizer.step()\n",
        "\n",
        "        # ========================================================= #\n",
        "        #                        Train the generator                #\n",
        "        # ========================================================= #\n",
        "\n",
        "        # Compute loss with fake images\n",
        "        z = torch.randn(BATCH_SIZE, latent_size).to(device)\n",
        "        fake_images = G(z)\n",
        "        outputs = D(fake_images)\n",
        "\n",
        "        G_loss = loss_function(outputs, real_labels)\n",
        "\n",
        "        # Backprop and optimize\n",
        "        G_optimizer.zero_grad()\n",
        "        G_loss.backward()\n",
        "        G_optimizer.step()\n",
        "\n",
        "    D_loss_epochs.append(D_loss.mean().item())\n",
        "    G_loss_epochs.append(G_loss.mean().item())\n",
        "\n",
        "    print('Epoch [%d/%d]: D_loss: %.4f, G_loss: %.4f' % (epoch, num_epochs, D_loss.mean().item(), G_loss.mean().item()))\n",
        "\n",
        "#    print('Epoch [%d/%d]: D_loss: %.4f, G_loss: %.4f' % (epoch, num_epochs, torch.mean(torch.FloatTensor(D_loss)),\n",
        "#                                                   torch.mean(torch.FloatTensor(G_loss))))\n",
        "    # real image 저장\n",
        "    if (epoch+1) == num_epochs:\n",
        "        images = images.reshape(images.size(0), 1, 28, 28)\n",
        "        save_image((images+1)/2, os.path.join('./mnist_data/', 'real_images.png'))\n",
        "\n",
        "    # 생성된 이미지 저장\n",
        "    if epoch==0:\n",
        "        fake_images = fake_images.reshape(fake_images.size(0), 1, 28, 28)\n",
        "        save_image((fake_images+1)/2, os.path.join('./mnist_data/', 'fake_images-{}.png'.format(epoch+1)))\n",
        "\n",
        "    if (epoch+1) % 10==0:\n",
        "        fake_images = fake_images.reshape(fake_images.size(0), 1, 28, 28)\n",
        "        save_image((fake_images+1)/2, os.path.join('./mnist_data/', 'fake_images-{}.png'.format(epoch+1)))"
      ],
      "id": "CcoEKvmHQRq1"
    },
    {
      "cell_type": "code",
      "execution_count": null,
      "metadata": {
        "colab": {
          "base_uri": "https://localhost:8080/",
          "height": 472
        },
        "id": "odL_wHdtQRq3",
        "outputId": "cbe94d1e-4b7f-4995-a252-78e359da28db"
      },
      "outputs": [
        {
          "output_type": "display_data",
          "data": {
            "text/plain": [
              "<Figure size 640x480 with 1 Axes>"
            ],
            "image/png": "[encoded data removed]"
          },
          "metadata": {}
        }
      ],
      "source": [
        "import matplotlib.pyplot as plt\n",
        "\n",
        "plt.plot(D_loss_epochs, '-')\n",
        "plt.plot(G_loss_epochs, '-')\n",
        "plt.xlabel('Epoch')\n",
        "plt.ylabel('Loss')\n",
        "plt.legend(['Discriminator', 'Generator'])\n",
        "plt.title('GAN Losses');"
      ],
      "id": "odL_wHdtQRq3"
    },
    {
      "cell_type": "code",
      "execution_count": null,
      "metadata": {
        "id": "QDeiD5avQRrK"
      },
      "outputs": [],
      "source": [],
      "id": "QDeiD5avQRrK"
    }
  ],
  "metadata": {
    "kernelspec": {
      "display_name": "Python 3",
      "language": "python",
      "name": "python3"
    },
    "language_info": {
      "codemirror_mode": {
        "name": "ipython",
        "version": 3
      },
      "file_extension": ".py",
      "mimetype": "text/x-python",
      "name": "python",
      "nbconvert_exporter": "python",
      "pygments_lexer": "ipython3",
      "version": "3.8.3"
    },
    "colab": {
      "provenance": []
    }
  },
  "nbformat": 4,
  "nbformat_minor": 5
}